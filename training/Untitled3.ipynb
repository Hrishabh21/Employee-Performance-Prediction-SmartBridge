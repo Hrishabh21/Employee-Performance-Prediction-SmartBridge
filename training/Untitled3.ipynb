{
 "cells": [
  {
   "cell_type": "code",
   "execution_count": 1,
   "metadata": {},
   "outputs": [
    {
     "ename": "ModuleNotFoundError",
     "evalue": "No module named 'seaborn'",
     "output_type": "error",
     "traceback": [
      "\u001b[31m---------------------------------------------------------------------------\u001b[39m",
      "\u001b[31mModuleNotFoundError\u001b[39m                       Traceback (most recent call last)",
      "\u001b[36mCell\u001b[39m\u001b[36m \u001b[39m\u001b[32mIn[1]\u001b[39m\u001b[32m, line 2\u001b[39m\n\u001b[32m      1\u001b[39m \u001b[38;5;28;01mimport\u001b[39;00m\u001b[38;5;250m \u001b[39m\u001b[34;01mpandas\u001b[39;00m\u001b[38;5;250m \u001b[39m\u001b[38;5;28;01mas\u001b[39;00m\u001b[38;5;250m \u001b[39m\u001b[34;01mpd\u001b[39;00m\n\u001b[32m----> \u001b[39m\u001b[32m2\u001b[39m \u001b[38;5;28;01mimport\u001b[39;00m\u001b[38;5;250m \u001b[39m\u001b[34;01mseaborn\u001b[39;00m\u001b[38;5;250m \u001b[39m\u001b[38;5;28;01mas\u001b[39;00m\u001b[38;5;250m \u001b[39m\u001b[34;01msns\u001b[39;00m\n\u001b[32m      3\u001b[39m \u001b[38;5;28;01mimport\u001b[39;00m\u001b[38;5;250m \u001b[39m\u001b[34;01mmatplotlib\u001b[39;00m\u001b[34;01m.\u001b[39;00m\u001b[34;01mpyplot\u001b[39;00m\u001b[38;5;250m \u001b[39m\u001b[38;5;28;01mas\u001b[39;00m\u001b[38;5;250m \u001b[39m\u001b[34;01mplt\u001b[39;00m\n\u001b[32m      4\u001b[39m \u001b[38;5;28;01mimport\u001b[39;00m\u001b[38;5;250m \u001b[39m\u001b[34;01mMultiColumnLabelEncoder\u001b[39;00m\n",
      "\u001b[31mModuleNotFoundError\u001b[39m: No module named 'seaborn'"
     ]
    }
   ],
   "source": [
    "import pandas as pd\n",
    "import seaborn as sns\n",
    "import matplotlib.pyplot as plt\n",
    "import MultiColumnLabelEncoder\n",
    "from sklearn.model_selection import train_test_split \n",
    "from sklearn.linear_model import LinearRegression\n",
    "from sklearn.metrics import mean_squared_error\n",
    "from sklearn.metrics import mean_absolute_error \n",
    "from sklearn.metrics import r2_score\n",
    "from sklearn.ensemble import RandomForestRegressor\n",
    "import xgboost as xgb\n",
    "import pickle"
   ]
  },
  {
   "cell_type": "code",
   "execution_count": null,
   "metadata": {},
   "outputs": [],
   "source": [
    "data=pd.read_csv(\"garments_worker_productivity.csv\")\n"
   ]
  },
  {
   "cell_type": "code",
   "execution_count": null,
   "metadata": {},
   "outputs": [],
   "source": [
    "data.head()"
   ]
  },
  {
   "cell_type": "code",
   "execution_count": null,
   "metadata": {},
   "outputs": [],
   "source": [
    "import seaborn as sns\n",
    "import matplotlib.pyplot as plt\n",
    "corrMatrix = data.corr()\n",
    "fig, ax = plt.subplots(figsize=(15,15))\n",
    "sns.heatmap(corrMatrix, annot=True, linewidths=.5, ax=ax)\n",
    "plt.show()"
   ]
  },
  {
   "cell_type": "code",
   "execution_count": null,
   "metadata": {},
   "outputs": [],
   "source": [
    "data.describe()"
   ]
  },
  {
   "cell_type": "code",
   "execution_count": null,
   "metadata": {},
   "outputs": [],
   "source": [
    "data.shape\n",
    "(1197,15)\n",
    "data.info()"
   ]
  },
  {
   "cell_type": "code",
   "execution_count": 2,
   "metadata": {},
   "outputs": [
    {
     "ename": "NameError",
     "evalue": "name 'data' is not defined",
     "output_type": "error",
     "traceback": [
      "\u001b[31m---------------------------------------------------------------------------\u001b[39m",
      "\u001b[31mNameError\u001b[39m                                 Traceback (most recent call last)",
      "\u001b[36mCell\u001b[39m\u001b[36m \u001b[39m\u001b[32mIn[2]\u001b[39m\u001b[32m, line 1\u001b[39m\n\u001b[32m----> \u001b[39m\u001b[32m1\u001b[39m \u001b[43mdata\u001b[49m.isnull().sum()\n",
      "\u001b[31mNameError\u001b[39m: name 'data' is not defined"
     ]
    }
   ],
   "source": [
    "data.isnull().sum()"
   ]
  },
  {
   "cell_type": "code",
   "execution_count": 8,
   "metadata": {},
   "outputs": [],
   "source": [
    "data.drop(['wip'],axis=1,inplace=True)"
   ]
  },
  {
   "cell_type": "code",
   "execution_count": 9,
   "metadata": {},
   "outputs": [],
   "source": [
    "data[\"date\"] = pd.to_datetime(data[\"date\"])"
   ]
  },
  {
   "cell_type": "code",
   "execution_count": 10,
   "metadata": {},
   "outputs": [
    {
     "data": {
      "text/plain": [
       "0      2015-01-01\n",
       "1      2015-01-01\n",
       "2      2015-01-01\n",
       "3      2015-01-01\n",
       "4      2015-01-01\n",
       "5      2015-01-01\n",
       "6      2015-01-01\n",
       "7      2015-01-01\n",
       "8      2015-01-01\n",
       "9      2015-01-01\n",
       "10     2015-01-01\n",
       "11     2015-01-01\n",
       "12     2015-01-01\n",
       "13     2015-01-01\n",
       "14     2015-01-01\n",
       "15     2015-01-01\n",
       "16     2015-01-01\n",
       "17     2015-01-01\n",
       "18     2015-01-01\n",
       "19     2015-01-03\n",
       "20     2015-01-03\n",
       "21     2015-01-03\n",
       "22     2015-01-03\n",
       "23     2015-01-03\n",
       "24     2015-01-03\n",
       "25     2015-01-03\n",
       "26     2015-01-03\n",
       "27     2015-01-03\n",
       "28     2015-01-03\n",
       "29     2015-01-03\n",
       "          ...    \n",
       "1167   2015-03-10\n",
       "1168   2015-03-10\n",
       "1169   2015-03-10\n",
       "1170   2015-03-10\n",
       "1171   2015-03-10\n",
       "1172   2015-03-10\n",
       "1173   2015-03-11\n",
       "1174   2015-03-11\n",
       "1175   2015-03-11\n",
       "1176   2015-03-11\n",
       "1177   2015-03-11\n",
       "1178   2015-03-11\n",
       "1179   2015-03-11\n",
       "1180   2015-03-11\n",
       "1181   2015-03-11\n",
       "1182   2015-03-11\n",
       "1183   2015-03-11\n",
       "1184   2015-03-11\n",
       "1185   2015-03-11\n",
       "1186   2015-03-11\n",
       "1187   2015-03-11\n",
       "1188   2015-03-11\n",
       "1189   2015-03-11\n",
       "1190   2015-03-11\n",
       "1191   2015-03-11\n",
       "1192   2015-03-11\n",
       "1193   2015-03-11\n",
       "1194   2015-03-11\n",
       "1195   2015-03-11\n",
       "1196   2015-03-11\n",
       "Name: date, Length: 1197, dtype: datetime64[ns]"
      ]
     },
     "execution_count": 10,
     "metadata": {},
     "output_type": "execute_result"
    }
   ],
   "source": [
    "data.date"
   ]
  },
  {
   "cell_type": "code",
   "execution_count": 11,
   "metadata": {},
   "outputs": [],
   "source": [
    "data['month']=data['date'].dt.month\n",
    "data.drop(['date'],axis=1, inplace=True)"
   ]
  },
  {
   "cell_type": "code",
   "execution_count": 12,
   "metadata": {},
   "outputs": [
    {
     "data": {
      "text/plain": [
       "0       1\n",
       "1       1\n",
       "2       1\n",
       "3       1\n",
       "4       1\n",
       "5       1\n",
       "6       1\n",
       "7       1\n",
       "8       1\n",
       "9       1\n",
       "10      1\n",
       "11      1\n",
       "12      1\n",
       "13      1\n",
       "14      1\n",
       "15      1\n",
       "16      1\n",
       "17      1\n",
       "18      1\n",
       "19      1\n",
       "20      1\n",
       "21      1\n",
       "22      1\n",
       "23      1\n",
       "24      1\n",
       "25      1\n",
       "26      1\n",
       "27      1\n",
       "28      1\n",
       "29      1\n",
       "       ..\n",
       "1167    3\n",
       "1168    3\n",
       "1169    3\n",
       "1170    3\n",
       "1171    3\n",
       "1172    3\n",
       "1173    3\n",
       "1174    3\n",
       "1175    3\n",
       "1176    3\n",
       "1177    3\n",
       "1178    3\n",
       "1179    3\n",
       "1180    3\n",
       "1181    3\n",
       "1182    3\n",
       "1183    3\n",
       "1184    3\n",
       "1185    3\n",
       "1186    3\n",
       "1187    3\n",
       "1188    3\n",
       "1189    3\n",
       "1190    3\n",
       "1191    3\n",
       "1192    3\n",
       "1193    3\n",
       "1194    3\n",
       "1195    3\n",
       "1196    3\n",
       "Name: month, Length: 1197, dtype: int64"
      ]
     },
     "execution_count": 12,
     "metadata": {},
     "output_type": "execute_result"
    }
   ],
   "source": [
    "data.month"
   ]
  },
  {
   "cell_type": "code",
   "execution_count": 13,
   "metadata": {},
   "outputs": [
    {
     "data": {
      "text/plain": [
       "sweing        691\n",
       "finishing     257\n",
       "finishing     249\n",
       "Name: department, dtype: int64"
      ]
     },
     "execution_count": 13,
     "metadata": {},
     "output_type": "execute_result"
    }
   ],
   "source": [
    "data['department'].value_counts()"
   ]
  },
  {
   "cell_type": "code",
   "execution_count": 14,
   "metadata": {},
   "outputs": [],
   "source": [
    "data['department'] = data['department'].apply(lambda x:'finishing' if x.replace(\"\",\"\")=='finishing' else 'sweing')"
   ]
  },
  {
   "cell_type": "code",
   "execution_count": 15,
   "metadata": {},
   "outputs": [
    {
     "data": {
      "text/plain": [
       "sweing       948\n",
       "finishing    249\n",
       "Name: department, dtype: int64"
      ]
     },
     "execution_count": 15,
     "metadata": {},
     "output_type": "execute_result"
    }
   ],
   "source": [
    "data['department'].value_counts()"
   ]
  },
  {
   "cell_type": "code",
   "execution_count": 16,
   "metadata": {},
   "outputs": [],
   "source": [
    "import MultiColumnLabelEncoder\n",
    "Mcle = MultiColumnLabelEncoder.MultiColumnLabelEncoder()\n",
    "data = Mcle.fit_transform(data)"
   ]
  },
  {
   "cell_type": "code",
   "execution_count": 17,
   "metadata": {},
   "outputs": [],
   "source": [
    "x=data.drop(['actual_productivity'],axis=1)\n",
    "y=data['actual_productivity']"
   ]
  },
  {
   "cell_type": "code",
   "execution_count": 18,
   "metadata": {},
   "outputs": [],
   "source": [
    "X=x.to_numpy()"
   ]
  },
  {
   "cell_type": "code",
   "execution_count": 19,
   "metadata": {},
   "outputs": [
    {
     "data": {
      "text/plain": [
       "array([[ 0. ,  0. ,  0. , ...,  0. , 59. ,  1. ],\n",
       "       [ 0. ,  0. ,  0. , ...,  0. ,  8. ,  1. ],\n",
       "       [ 0. ,  0. ,  0. , ...,  0. , 30.5,  1. ],\n",
       "       ...,\n",
       "       [ 1. ,  1. ,  5. , ...,  0. ,  8. ,  3. ],\n",
       "       [ 1. ,  1. ,  5. , ...,  0. , 15. ,  3. ],\n",
       "       [ 1. ,  1. ,  5. , ...,  0. ,  6. ,  3. ]])"
      ]
     },
     "execution_count": 19,
     "metadata": {},
     "output_type": "execute_result"
    }
   ],
   "source": [
    "X"
   ]
  },
  {
   "cell_type": "code",
   "execution_count": 20,
   "metadata": {},
   "outputs": [],
   "source": [
    "from sklearn.model_selection import train_test_split\n",
    "x_train, x_test, y_train, y_test = train_test_split(X, y,train_size=0.8,random_state=0)\n"
   ]
  },
  {
   "cell_type": "code",
   "execution_count": 25,
   "metadata": {},
   "outputs": [],
   "source": [
    "from sklearn.linear_model import LinearRegression\n",
    "model_lr=LinearRegression()\n"
   ]
  },
  {
   "cell_type": "code",
   "execution_count": 26,
   "metadata": {},
   "outputs": [
    {
     "name": "stdout",
     "output_type": "stream",
     "text": [
      "test_MSE: 0.019158705703491208\n",
      "test_MAE: 0.09977157899843243\n",
      "R2_score:0.3519988499111938\n"
     ]
    }
   ],
   "source": [
    "model_lr.fit(x_test,y_test)\n",
    "pred_test=model_lr.predict(x_test)\n",
    "print(\"test_MSE:\",mean_squared_error(y_test, pred_test))\n",
    "print(\"test_MAE:\",mean_absolute_error(y_test, pred_test))\n",
    "print(\"R2_score:{}\".format(r2_score(y_test, pred_test)))"
   ]
  },
  {
   "cell_type": "code",
   "execution_count": 27,
   "metadata": {},
   "outputs": [],
   "source": [
    "from sklearn.ensemble import RandomForestRegressor\n",
    "model_rf = RandomForestRegressor(n_estimators=200,max_depth=5)\n"
   ]
  },
  {
   "cell_type": "code",
   "execution_count": 28,
   "metadata": {},
   "outputs": [
    {
     "name": "stdout",
     "output_type": "stream",
     "text": [
      "test_MSE: 0.007645228496152779\n",
      "test_MAE: 0.06221287492854128\n",
      "R2_score:0.7414169341671162\n"
     ]
    }
   ],
   "source": [
    "model_rf.fit(x_test,y_test)\n",
    "pred = model_rf.predict(x_test)\n",
    "print(\"test_MSE:\",mean_squared_error(y_test, pred))\n",
    "print(\"test_MAE:\",mean_absolute_error(y_test, pred)) \n",
    "print(\"R2_score:{}\".format(r2_score(y_test, pred)))"
   ]
  },
  {
   "cell_type": "code",
   "execution_count": 29,
   "metadata": {},
   "outputs": [],
   "source": [
    "import xgboost as xgb\n",
    "model_xgb = xgb.XGBRegressor(n_estimators=200, max_depth=5, learning_rate=0.1)\n"
   ]
  },
  {
   "cell_type": "code",
   "execution_count": 30,
   "metadata": {},
   "outputs": [
    {
     "name": "stdout",
     "output_type": "stream",
     "text": [
      "test_MSE: 0.0001606677613929356\n",
      "test_MAE: 0.007484510903351275\n",
      "R2_score:0.9945657657789564\n"
     ]
    }
   ],
   "source": [
    "model_xgb.fit(x_test,y_test)\n",
    "pred3=model_xgb.predict(x_test)\n",
    "print(\"test_MSE:\",mean_squared_error(y_test, pred3))\n",
    "print(\"test_MAE:\",mean_absolute_error(y_test, pred3))\n",
    "print(\"R2_score:{}\".format(r2_score(y_test, pred3)))"
   ]
  },
  {
   "cell_type": "code",
   "execution_count": 31,
   "metadata": {},
   "outputs": [
    {
     "name": "stdout",
     "output_type": "stream",
     "text": [
      "test_MSE: 0.02084125105259606\n",
      "test_MAE: 0.10567987426824522\n",
      "R2_score:0.29509044815533625\n"
     ]
    }
   ],
   "source": [
    "model_lr.fit(x_train,y_train)\n",
    "pred_test=model_lr.predict(x_test)\n",
    "print(\"test_MSE:\",mean_squared_error(y_test, pred_test)) \n",
    "print(\"test_MAE:\",mean_absolute_error(y_test, pred_test)) \n",
    "print(\"R2_score:{}\".format(r2_score(y_test, pred_test)))"
   ]
  },
  {
   "cell_type": "code",
   "execution_count": 32,
   "metadata": {},
   "outputs": [
    {
     "name": "stdout",
     "output_type": "stream",
     "text": [
      "test_MSE: 0.007645228496152779\n",
      "test_MAE: 0.06221287492854128\n",
      "R2_score:0.7414169341671162\n"
     ]
    }
   ],
   "source": [
    "pred = model_rf.predict(x_test)\n",
    "print(\"test_MSE:\",mean_squared_error(y_test, pred)) \n",
    "print(\"test_MAE:\",mean_absolute_error(y_test, pred))\n",
    "print(\"R2_score:{}\".format(r2_score(y_test, pred)))"
   ]
  },
  {
   "cell_type": "code",
   "execution_count": 34,
   "metadata": {},
   "outputs": [
    {
     "name": "stdout",
     "output_type": "stream",
     "text": [
      "test_MSE: 0.007645228496152779\n",
      "test_MAE: 0.06221287492854128\n",
      "R2_score:0.7414169341671162\n"
     ]
    }
   ],
   "source": [
    "pred = model_rf.predict(x_test)\n",
    "print(\"test_MSE:\",mean_squared_error(y_test, pred)) \n",
    "print(\"test_MAE:\",mean_absolute_error(y_test, pred))\n",
    "print(\"R2_score:{}\".format(r2_score(y_test, pred)))"
   ]
  },
  {
   "cell_type": "code",
   "execution_count": 35,
   "metadata": {},
   "outputs": [],
   "source": [
    "pred3=model_xgb.predict(x_test)"
   ]
  },
  {
   "cell_type": "code",
   "execution_count": 36,
   "metadata": {},
   "outputs": [
    {
     "name": "stdout",
     "output_type": "stream",
     "text": [
      "test_MSE: 0.0001606677613929356\n",
      "test_MAE: 0.007484510903351275\n",
      "R2_score:0.9945657657789564\n"
     ]
    }
   ],
   "source": [
    "print(\"test_MSE:\",mean_squared_error(y_test, pred3)) \n",
    "print(\"test_MAE:\",mean_absolute_error(y_test, pred3)) \n",
    "print(\"R2_score:{}\".format(r2_score(y_test, pred3)))"
   ]
  },
  {
   "cell_type": "code",
   "execution_count": 37,
   "metadata": {},
   "outputs": [],
   "source": [
    "import pickle\n",
    "pickle.dump(model_xgb,open('gwp.pkl','wb'))"
   ]
  },
  {
   "cell_type": "code",
   "execution_count": null,
   "metadata": {},
   "outputs": [],
   "source": []
  }
 ],
 "metadata": {
  "kernelspec": {
   "display_name": "Python 3 (ipykernel)",
   "language": "python",
   "name": "python3"
  },
  "language_info": {
   "codemirror_mode": {
    "name": "ipython",
    "version": 3
   },
   "file_extension": ".py",
   "mimetype": "text/x-python",
   "name": "python",
   "nbconvert_exporter": "python",
   "pygments_lexer": "ipython3",
   "version": "3.12.4"
  }
 },
 "nbformat": 4,
 "nbformat_minor": 4
}
